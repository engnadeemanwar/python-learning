{
 "cells": [
  {
   "cell_type": "code",
   "execution_count": 6,
   "metadata": {},
   "outputs": [
    {
     "name": "stdout",
     "output_type": "stream",
     "text": [
      "['nadeem', 'salman', 'fahad', 'haroon']\n"
     ]
    }
   ],
   "source": [
    "fruits: list = ['nadeem','salman','fahad','haroon']\n",
    "print(fruits)"
   ]
  },
  {
   "cell_type": "code",
   "execution_count": 16,
   "metadata": {},
   "outputs": [
    {
     "name": "stdout",
     "output_type": "stream",
     "text": [
      "NADEEM\n",
      "SALMAN\n",
      "FAHAD\n",
      "HAROON\n"
     ]
    }
   ],
   "source": [
    "for fol in fruits:\n",
    "    print(fol.upper())"
   ]
  },
  {
   "cell_type": "code",
   "execution_count": 19,
   "metadata": {},
   "outputs": [
    {
     "name": "stdout",
     "output_type": "stream",
     "text": [
      " nadeemis my best friend\n",
      " salmanis my best friend\n",
      " fahadis my best friend\n",
      " haroonis my best friend\n",
      " waseemis my best friend\n"
     ]
    }
   ],
   "source": [
    "fruits = [\"nadeem\",\"salman\",\"fahad\",\"haroon\",\"waseem\"]\n",
    "for x in fruits:\n",
    "    print(f\" {x}is my best friend\")"
   ]
  },
  {
   "cell_type": "code",
   "execution_count": 6,
   "metadata": {},
   "outputs": [
    {
     "name": "stdout",
     "output_type": "stream",
     "text": [
      "['a', 'a', 'b', 'c']\n"
     ]
    }
   ],
   "source": [
    "arr = [\"a\", \"a\", \"b\", \"b\", \"c\"]\n",
    "del arr[2]\n",
    "print(arr)"
   ]
  }
 ],
 "metadata": {
  "kernelspec": {
   "display_name": "Python 3",
   "language": "python",
   "name": "python3"
  },
  "language_info": {
   "codemirror_mode": {
    "name": "ipython",
    "version": 3
   },
   "file_extension": ".py",
   "mimetype": "text/x-python",
   "name": "python",
   "nbconvert_exporter": "python",
   "pygments_lexer": "ipython3",
   "version": "3.12.1"
  }
 },
 "nbformat": 4,
 "nbformat_minor": 2
}
